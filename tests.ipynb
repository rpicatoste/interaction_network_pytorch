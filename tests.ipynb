{
 "cells": [
  {
   "cell_type": "code",
   "execution_count": 1,
   "metadata": {
    "collapsed": true,
    "pycharm": {
     "is_executing": false
    }
   },
   "outputs": [],
   "source": [
    "from data_loader import DataLoader\n",
    "%load_ext autoreload\n",
    "%autoreload 2\n",
    "%matplotlib inline"
   ]
  },
  {
   "cell_type": "code",
   "execution_count": 2,
   "metadata": {
    "collapsed": false,
    "pycharm": {
     "is_executing": false,
     "name": "#%%\n"
    }
   },
   "outputs": [],
   "source": [
    "from IPython.display import clear_output\n",
    "import matplotlib.pyplot as plt\n",
    "\n",
    "from network import Model, InteractionNetwork\n",
    "from physics_engine import generate_data_with_simulator, N_FEATURES, make_video, VEL\n",
    "import torch\n",
    "import numpy as np"
   ]
  },
  {
   "cell_type": "code",
   "execution_count": 4,
   "metadata": {
    "collapsed": false,
    "pycharm": {
     "is_executing": false,
     "name": "#%%\n"
    }
   },
   "outputs": [],
   "source": [
    "n_samples = 30\n",
    "n_objects = 3\n",
    "state_dim = 2\n",
    "\n",
    "data = generate_data_with_simulator(n_objects=n_objects, orbit=True, time_steps=1000, dt=0.001)\n",
    "print(data.shape)\n",
    "\n",
    "data_loader = DataLoader(data, batch_size=100, shuffle=False)\n",
    "\n",
    "for X, y in data_loader:\n",
    "    print('shapes:', X.shape, y.shape)\n",
    "\n",
    "X, y = data_loader[9]\n",
    "obj_i = 2\n",
    "xy = X[:, 1:3, obj_i].cpu()\n",
    "    \n",
    "plt.plot(xy[:, 0], xy[:, 1])\n",
    "\n",
    "for ii in range(3):\n",
    "    obj_i = 1\n",
    "    print(f' {ii}: ', X[ii, VEL, obj_i].cpu().numpy(), y[ii, :, obj_i].cpu().numpy())\n",
    "\n",
    "print(type(X))"
   ]
  },
  {
   "cell_type": "code",
   "execution_count": 7,
   "outputs": [],
   "source": [
    "data_video = X[:60].cpu().numpy()\n",
    "make_video(data_video, 'test_cricho.mp4')\n",
    "\n",
    "print(data_video.shape)\n"
   ],
   "metadata": {
    "collapsed": false,
    "pycharm": {
     "name": "#%%\n",
     "is_executing": false
    }
   }
  },
  {
   "cell_type": "code",
   "execution_count": null,
   "outputs": [],
   "source": [
    "\n"
   ],
   "metadata": {
    "collapsed": false,
    "pycharm": {
     "name": "#%%\n"
    }
   }
  }
 ],
 "metadata": {
  "kernelspec": {
   "display_name": "Python 3",
   "language": "python",
   "name": "python3"
  },
  "language_info": {
   "codemirror_mode": {
    "name": "ipython",
    "version": 3
   },
   "file_extension": ".py",
   "mimetype": "text/x-python",
   "name": "python",
   "nbconvert_exporter": "python",
   "pygments_lexer": "ipython3",
   "version": "3.6.8"
  },
  "pycharm": {
   "stem_cell": {
    "cell_type": "raw",
    "source": [],
    "metadata": {
     "collapsed": false
    }
   }
  }
 },
 "nbformat": 4,
 "nbformat_minor": 2
}