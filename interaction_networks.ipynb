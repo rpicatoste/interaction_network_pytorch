{
 "cells": [
  {
   "cell_type": "code",
   "execution_count": 1,
   "metadata": {
    "collapsed": true,
    "jupyter": {
     "outputs_hidden": true
    },
    "pycharm": {
     "is_executing": false,
     "name": "#%%\n"
    }
   },
   "outputs": [],
   "source": [
    "%load_ext autoreload\n",
    "%autoreload 2\n",
    "%matplotlib inline"
   ]
  },
  {
   "cell_type": "code",
   "execution_count": 2,
   "outputs": [],
   "source": [
    "from IPython.display import clear_output\n",
    "from data_scaler import DataScaler\n",
    "import matplotlib.pyplot as plt\n",
    "import numpy as np \n",
    "from pprint import pprint\n",
    "\n",
    "from model_trainer import ModelTrainer\n",
    "from data_loader import DataLoader\n",
    "from physics_engine import generate_data_with_simulator, N_FEATURES, OUTPUT"
   ],
   "metadata": {
    "collapsed": false,
    "pycharm": {
     "name": "#%%\n",
     "is_executing": false
    }
   }
  },
  {
   "cell_type": "markdown",
   "metadata": {},
   "source": [
    "### N body\n",
    "In the n-body domain,  such as solar systems, all n bodies exert distance- and mass-dependent gravitational forces on each other, so there were n(n−1) relations input to our model.  Across simulations, the objects’ masses varied, while all other fixed attributes were held constant"
   ]
  },
  {
   "cell_type": "code",
   "execution_count": 3,
   "outputs": [],
   "source": [
    "n_samples = 10\n",
    "n_objects  = 6\n",
    "relation_dim = 1\n",
    "effect_dim = 100  # effect's vector size\n",
    "dt = 0.001\n",
    "\n",
    "batch_size = 1000\n",
    "time_steps = 100000\n",
    "n_epoch = 100"
   ],
   "metadata": {
    "collapsed": false,
    "pycharm": {
     "name": "#%%\n",
     "is_executing": false
    }
   }
  },
  {
   "cell_type": "code",
   "execution_count": 15,
   "metadata": {
    "collapsed": false,
    "jupyter": {
     "outputs_hidden": false
    },
    "pycharm": {
     "is_executing": false,
     "name": "#%%\n"
    }
   },
   "outputs": [],
   "source": [
    "n_objects  = 6\n",
    "relation_dim = 1\n",
    "effect_dim = 100  # effect's vector size\n",
    "dt = 0.001\n",
    "\n",
    "batch_size = 100\n",
    "n_samples = 4\n",
    "time_steps = 10000\n",
    "n_epoch = 100"
   ]
  },
  {
   "cell_type": "code",
   "execution_count": 4,
   "metadata": {
    "collapsed": false,
    "jupyter": {
     "outputs_hidden": false
    },
    "pycharm": {
     "is_executing": false,
     "name": "#%%\n"
    }
   },
   "outputs": [],
   "source": [
    "data = generate_data_with_simulator(n_samples=n_samples, n_objects=n_objects, time_steps=time_steps, dt=dt)\n",
    "scaler = DataScaler(data)\n",
    "\n",
    "data_loader = DataLoader(original_data=data,\n",
    "                         scaler=scaler,\n",
    "                         batch_size=batch_size,\n",
    "                         shuffle=True)\n",
    "\n",
    "print('len data', len(data))\n",
    "print('data loader len', len(data_loader))"
   ]
  },
  {
   "cell_type": "code",
   "execution_count": 12,
   "metadata": {
    "collapsed": false,
    "jupyter": {
     "outputs_hidden": false
    },
    "pycharm": {
     "is_executing": false,
     "name": "#%%\n"
    }
   },
   "outputs": [],
   "source": [
    "model = ModelTrainer(state_dim=N_FEATURES,\n",
    "                     relation_dim=relation_dim,\n",
    "                     effect_dim=effect_dim,\n",
    "                     output_dim=len(OUTPUT))"
   ]
  },
  {
   "cell_type": "code",
   "execution_count": 17,
   "outputs": [],
   "source": [
    "model.train(n_epoch=n_epoch,\n",
    "            data_loader=data_loader)"
   ],
   "metadata": {
    "collapsed": false,
    "pycharm": {
     "name": "#%%\n",
     "is_executing": false
    }
   }
  },
  {
   "cell_type": "code",
   "execution_count": 9,
   "outputs": [],
   "source": [
    "cycles = 5\n",
    "for ii in range(cycles):\n",
    "    print(f'Cycle {ii+1}/{cycles}')\n",
    "    data = generate_data_with_simulator(n_samples=n_samples, n_objects=n_objects, time_steps=time_steps, dt=dt)\n",
    "    data_loader = DataLoader(original_data=data, scaler=scaler, batch_size=batch_size, shuffle=True)    \n",
    "    model.train(n_epoch=n_epoch, data_loader=data_loader)\n",
    "\n",
    "print('Finished')"
   ],
   "metadata": {
    "collapsed": false,
    "pycharm": {
     "name": "#%% Training long\n",
     "is_executing": false
    }
   }
  },
  {
   "cell_type": "code",
   "execution_count": 41,
   "metadata": {
    "collapsed": false,
    "jupyter": {
     "outputs_hidden": false
    },
    "pycharm": {
     "is_executing": false,
     "name": "#%%\n"
    }
   },
   "outputs": [],
   "source": [
    "model.save(time_stamped=True)"
   ]
  },
  {
   "cell_type": "code",
   "execution_count": 5,
   "outputs": [],
   "source": [
    "model = ModelTrainer.load()\n",
    "scaler = model.scaler"
   ],
   "metadata": {
    "collapsed": false,
    "pycharm": {
     "name": "#%%\n",
     "is_executing": false
    }
   }
  },
  {
   "cell_type": "code",
   "execution_count": 40,
   "metadata": {
    "collapsed": false,
    "jupyter": {
     "outputs_hidden": false
    },
    "pycharm": {
     "is_executing": false,
     "name": "#%%\n"
    }
   },
   "outputs": [],
   "source": [
    "model.losses = np.array(model.losses, dtype=np.float32)\n",
    "print('losses', len(model.losses), type(model.losses), type(model.losses[0]), len(model.losses)*32/8/2**20)\n",
    "plt.figure(figsize=(10, 5))\n",
    "# plt.plot(model.losses[-int(len(model.losses)/2):])\n",
    "plt.plot(model.losses[1000:])\n",
    "plt.show()\n"
   ]
  },
  {
   "cell_type": "code",
   "execution_count": 43,
   "outputs": [],
   "source": [
    "np.array(range(10)).tolist()"
   ],
   "metadata": {
    "collapsed": false,
    "pycharm": {
     "name": "#%%\n",
     "is_executing": false
    }
   }
  },
  {
   "cell_type": "code",
   "execution_count": 31,
   "metadata": {
    "collapsed": false,
    "jupyter": {
     "outputs_hidden": false
    },
    "pycharm": {
     "is_executing": false,
     "name": "#%%\n"
    }
   },
   "outputs": [],
   "source": [
    "n_objects_test = 4\n",
    "test_data = generate_data_with_simulator(n_samples=1,\n",
    "                                         n_objects=n_objects_test, \n",
    "                                        orbit=not True,\n",
    "                                        time_steps=200, \n",
    "                                        dt=0.001)\n",
    "test_data_loader = DataLoader(original_data=test_data, \n",
    "                              scaler=scaler,\n",
    "                              batch_size=None,\n",
    "                              shuffle=False)\n",
    "\n",
    "sim_output = model.test(data_loader=test_data_loader, dt=0.001)"
   ]
  },
  {
   "cell_type": "code",
   "execution_count": null,
   "outputs": [],
   "source": [
    "\n",
    "\n",
    "\n",
    "\n",
    "\n",
    "\n",
    "\n",
    "\n",
    "\n",
    "\n",
    "\n",
    "\n",
    "\n",
    "\n",
    "\n",
    "\n",
    "\n",
    "\n",
    "\n",
    "\n",
    "\n",
    "\n",
    "\n",
    "\n",
    "\n",
    "\n",
    "\n",
    "\n",
    "\n",
    "\n",
    "\n",
    "\n",
    "\n",
    "\n",
    "\n",
    "\n",
    "\n",
    "\n",
    "\n",
    "\n",
    "\n",
    "\n"
   ],
   "metadata": {
    "collapsed": false,
    "pycharm": {
     "name": "#%%\n",
     "is_executing": false
    }
   }
  }
 ],
 "metadata": {
  "kernelspec": {
   "display_name": "Python 3",
   "language": "python",
   "name": "python3"
  },
  "language_info": {
   "codemirror_mode": {
    "name": "ipython",
    "version": 3
   },
   "file_extension": ".py",
   "mimetype": "text/x-python",
   "name": "python",
   "nbconvert_exporter": "python",
   "pygments_lexer": "ipython3",
   "version": "3.6.8"
  },
  "pycharm": {
   "stem_cell": {
    "cell_type": "raw",
    "source": [],
    "metadata": {
     "collapsed": false
    }
   }
  }
 },
 "nbformat": 4,
 "nbformat_minor": 4
}